{
 "cells": [
  {
   "cell_type": "code",
   "execution_count": 1,
   "metadata": {},
   "outputs": [],
   "source": [
    "import torch\n",
    "from torch import nn\n",
    "from torchvision.datasets import ImageFolder\n",
    "from torch.utils.data import Dataset\n",
    "from torchvision import transforms\n",
    "from torchvision.io import read_image\n",
    "from torchvision import datasets\n",
    "from torchvision.models import resnet50, ResNet50_Weights\n",
    "from torch.utils.data import DataLoader\n",
    "from torchvision import transforms as T\n",
    "from torchvision.utils import save_image\n",
    "from torchsummary import summary\n",
    "from sklearn.preprocessing import MultiLabelBinarizer\n",
    "import numpy as np\n",
    "import matplotlib.pyplot as plt\n",
    "from tqdm.notebook import tqdm\n"
   ]
  },
  {
   "cell_type": "code",
   "execution_count": 7,
   "metadata": {},
   "outputs": [
    {
     "name": "stdout",
     "output_type": "stream",
     "text": [
      "(28, 56)\n",
      "5 0\n"
     ]
    },
    {
     "data": {
      "image/png": "[encoded data removed]",
      "text/plain": [
       "<Figure size 640x480 with 1 Axes>"
      ]
     },
     "metadata": {},
     "output_type": "display_data"
    }
   ],
   "source": [
    "import struct\n",
    "\n",
    "with open('aux/MNIST/raw/train-images-idx3-ubyte', 'rb') as f:\n",
    "    magic, size = struct.unpack(\">II\", f.read(8))\n",
    "    nrows, ncols = struct.unpack(\">II\", f.read(8))\n",
    "    data = np.fromfile(f, dtype=np.dtype(np.uint8).newbyteorder('>'))\n",
    "    data = data.reshape((size, nrows, ncols))\n",
    "print(np.concatenate((data[0, :, :], data[1, :, :]), axis=1).shape)\n",
    "plt.imshow(np.concatenate((data[0, :, :], data[1, :, :]), axis=1), cmap='gray')\n",
    "\n",
    "with open('aux/MNIST/raw/train-labels-idx1-ubyte', 'rb') as l:\n",
    "    magic, size = struct.unpack(\">II\", l.read(8))\n",
    "    lbls = np.fromfile(l, dtype=np.dtype(np.uint8).newbyteorder('>'))\n",
    "    lbls = lbls.reshape((size,))  # (Optional)\n",
    "print(lbls[0], lbls[1])\n"
   ]
  },
  {
   "cell_type": "code",
   "execution_count": 8,
   "metadata": {},
   "outputs": [
    {
     "name": "stdout",
     "output_type": "stream",
     "text": [
      "(59999, 28, 56)\n",
      "(59999, 2)\n"
     ]
    }
   ],
   "source": [
    "train_numbers = []\n",
    "train_labels = []\n",
    "for i in range(lbls.shape[0]-1):\n",
    "    number = np.concatenate((data[i, :, :], data[i+1, :, :]), axis=1)\n",
    "    label = (lbls[i], lbls[i + 1])\n",
    "    train_numbers.append(number)\n",
    "    train_labels.append(label)\n",
    "print(np.array(train_numbers).shape)\n",
    "print(np.array(train_labels).shape)\n"
   ]
  },
  {
   "cell_type": "code",
   "execution_count": 9,
   "metadata": {},
   "outputs": [
    {
     "name": "stdout",
     "output_type": "stream",
     "text": [
      "(28, 56)\n",
      "7 2\n"
     ]
    },
    {
     "data": {
      "image/png": "[encoded data removed]",
      "text/plain": [
       "<Figure size 640x480 with 1 Axes>"
      ]
     },
     "metadata": {},
     "output_type": "display_data"
    }
   ],
   "source": [
    "with open('aux/MNIST/raw/t10k-images-idx3-ubyte', 'rb') as f:\n",
    "    magic, size = struct.unpack(\">II\", f.read(8))\n",
    "    nrows, ncols = struct.unpack(\">II\", f.read(8))\n",
    "    data = np.fromfile(f, dtype=np.dtype(np.uint8).newbyteorder('>'))\n",
    "    data = data.reshape((size, nrows, ncols))\n",
    "print(np.concatenate((data[0, :, :], data[1, :, :]), axis=1).shape)\n",
    "plt.imshow(np.concatenate((data[0, :, :], data[1, :, :]), axis=1), cmap='gray')\n",
    "\n",
    "with open('aux/MNIST/raw/t10k-labels-idx1-ubyte', 'rb') as l:\n",
    "    magic, size = struct.unpack(\">II\", l.read(8))\n",
    "    lbls = np.fromfile(l, dtype=np.dtype(np.uint8).newbyteorder('>'))\n",
    "    lbls = lbls.reshape((size,))  # (Optional)\n",
    "print(lbls[0], lbls[1])\n"
   ]
  },
  {
   "cell_type": "code",
   "execution_count": 10,
   "metadata": {},
   "outputs": [
    {
     "name": "stdout",
     "output_type": "stream",
     "text": [
      "(9999, 28, 56)\n",
      "(9999, 2)\n"
     ]
    }
   ],
   "source": [
    "valid_numbers = []\n",
    "valid_labels = []\n",
    "for i in range(lbls.shape[0]-1):\n",
    "    number = np.concatenate((data[i, :, :], data[i+1, :, :]), axis=1)\n",
    "    label = (lbls[i], lbls[i + 1])\n",
    "    valid_numbers.append(number)\n",
    "    valid_labels.append(label)\n",
    "print(np.array(valid_numbers).shape)\n",
    "print(np.array(valid_labels).shape)\n"
   ]
  },
  {
   "cell_type": "code",
   "execution_count": 11,
   "metadata": {},
   "outputs": [],
   "source": [
    "mlb = MultiLabelBinarizer()\n",
    "train_labels = mlb.fit_transform(train_labels)\n",
    "valid_labels = mlb.fit_transform(valid_labels)\n"
   ]
  },
  {
   "cell_type": "code",
   "execution_count": 12,
   "metadata": {},
   "outputs": [],
   "source": [
    "class NumbersDataset(Dataset):\n",
    "    def __init__(self, labels, images):\n",
    "        self.labels = labels\n",
    "        self.images = images\n",
    "\n",
    "    def __len__(self):\n",
    "        return len(self.labels)\n",
    "\n",
    "    def __getitem__(self, idx):\n",
    "        image = torch.tensor(self.images[idx])\n",
    "        label = torch.tensor(self.labels[idx])\n",
    "        return torch.unsqueeze(image, dim=0)/255, label.float()\n",
    "\n",
    "\n",
    "train_data = NumbersDataset(train_labels, train_numbers)\n",
    "valid_data = NumbersDataset(valid_labels, valid_numbers)\n"
   ]
  },
  {
   "cell_type": "code",
   "execution_count": 13,
   "metadata": {},
   "outputs": [
    {
     "data": {
      "text/plain": [
       "(tensor([[[0., 0., 0.,  ..., 0., 0., 0.],\n",
       "          [0., 0., 0.,  ..., 0., 0., 0.],\n",
       "          [0., 0., 0.,  ..., 0., 0., 0.],\n",
       "          ...,\n",
       "          [0., 0., 0.,  ..., 0., 0., 0.],\n",
       "          [0., 0., 0.,  ..., 0., 0., 0.],\n",
       "          [0., 0., 0.,  ..., 0., 0., 0.]]]),\n",
       " tensor([0., 0., 1., 0., 0., 0., 0., 1., 0., 0.]))"
      ]
     },
     "execution_count": 13,
     "metadata": {},
     "output_type": "execute_result"
    }
   ],
   "source": [
    "valid_data.__getitem__(0)\n"
   ]
  },
  {
   "cell_type": "code",
   "execution_count": 14,
   "metadata": {},
   "outputs": [],
   "source": [
    "train_loader = DataLoader(\n",
    "    train_data,\n",
    "    batch_size=64, shuffle=True\n",
    ")\n",
    "valid_loader = DataLoader(\n",
    "    valid_data,\n",
    "    batch_size=64, shuffle=True\n",
    ")\n"
   ]
  },
  {
   "cell_type": "code",
   "execution_count": 15,
   "metadata": {},
   "outputs": [
    {
     "name": "stdout",
     "output_type": "stream",
     "text": [
      "tensor([0., 0., 0., 0., 0., 0., 0., 0., 1., 1.])\n"
     ]
    },
    {
     "data": {
      "image/png": "[encoded data removed]",
      "text/plain": [
       "<Figure size 640x480 with 1 Axes>"
      ]
     },
     "metadata": {},
     "output_type": "display_data"
    }
   ],
   "source": [
    "for images, labels in train_loader:\n",
    "    for im in images:\n",
    "        # print(im)\n",
    "        # im =im\n",
    "        plt.imshow(im[0])\n",
    "        # plt.imshow(torch.permute(im,(1,2,0)))\n",
    "        # label = i[1]\n",
    "        # print(label)\n",
    "        break\n",
    "    for l in labels:\n",
    "        print(l)\n",
    "        break\n",
    "    break\n"
   ]
  },
  {
   "cell_type": "code",
   "execution_count": 19,
   "metadata": {},
   "outputs": [],
   "source": [
    "class MLClassifier(nn.Module):\n",
    "    def __init__(self):\n",
    "        super().__init__()\n",
    "        self.conv1 = nn.Sequential(\n",
    "            nn.Conv2d(1, 8, kernel_size=3, padding=1),\n",
    "            nn.ReLU()\n",
    "        )\n",
    "        self.conv2 = nn.Sequential(\n",
    "            nn.Conv2d(8, 16, kernel_size=3, padding=1),\n",
    "            nn.ReLU()\n",
    "        )\n",
    "        self.pool = nn.MaxPool2d(2)\n",
    "        self.conv3 = nn.Sequential(\n",
    "            nn.Conv2d(16, 32, kernel_size=3, padding=1),\n",
    "            nn.ReLU()\n",
    "        )\n",
    "        self.linear = nn.Sequential(\n",
    "            nn.Flatten(),\n",
    "            nn.Linear(3136, 1600),\n",
    "            nn.Dropout(),\n",
    "            nn.ReLU(),\n",
    "            nn.Linear(1600, 10),\n",
    "            nn.Sigmoid()\n",
    "        )\n",
    "\n",
    "    def forward(self, x):\n",
    "        x = self.conv1(x)\n",
    "        x = self.conv2(x)\n",
    "        x = self.pool(x)\n",
    "        x = self.conv3(x)\n",
    "        x = self.pool(x)\n",
    "        x = self.linear(x)\n",
    "        return x\n"
   ]
  },
  {
   "cell_type": "code",
   "execution_count": 20,
   "metadata": {},
   "outputs": [
    {
     "name": "stdout",
     "output_type": "stream",
     "text": [
      "----------------------------------------------------------------\n",
      "        Layer (type)               Output Shape         Param #\n",
      "================================================================\n",
      "            Conv2d-1            [-1, 8, 28, 56]              80\n",
      "              ReLU-2            [-1, 8, 28, 56]               0\n",
      "            Conv2d-3           [-1, 16, 28, 56]           1,168\n",
      "              ReLU-4           [-1, 16, 28, 56]               0\n",
      "         MaxPool2d-5           [-1, 16, 14, 28]               0\n",
      "            Conv2d-6           [-1, 32, 14, 28]           4,640\n",
      "              ReLU-7           [-1, 32, 14, 28]               0\n",
      "         MaxPool2d-8            [-1, 32, 7, 14]               0\n",
      "           Flatten-9                 [-1, 3136]               0\n",
      "           Linear-10                 [-1, 1600]       5,019,200\n",
      "          Dropout-11                 [-1, 1600]               0\n",
      "             ReLU-12                 [-1, 1600]               0\n",
      "           Linear-13                   [-1, 10]          16,010\n",
      "          Sigmoid-14                   [-1, 10]               0\n",
      "================================================================\n",
      "Total params: 5,041,098\n",
      "Trainable params: 5,041,098\n",
      "Non-trainable params: 0\n",
      "----------------------------------------------------------------\n",
      "Input size (MB): 0.01\n",
      "Forward/backward pass size (MB): 0.90\n",
      "Params size (MB): 19.23\n",
      "Estimated Total Size (MB): 20.13\n",
      "----------------------------------------------------------------\n"
     ]
    }
   ],
   "source": [
    "model = MLClassifier()\n",
    "summary(model, (1, 28, 56))\n"
   ]
  },
  {
   "cell_type": "code",
   "execution_count": 21,
   "metadata": {},
   "outputs": [
    {
     "data": {
      "text/plain": [
       "MLClassifier(\n",
       "  (conv1): Sequential(\n",
       "    (0): Conv2d(1, 8, kernel_size=(3, 3), stride=(1, 1), padding=(1, 1))\n",
       "    (1): ReLU()\n",
       "  )\n",
       "  (conv2): Sequential(\n",
       "    (0): Conv2d(8, 16, kernel_size=(3, 3), stride=(1, 1), padding=(1, 1))\n",
       "    (1): ReLU()\n",
       "  )\n",
       "  (pool): MaxPool2d(kernel_size=2, stride=2, padding=0, dilation=1, ceil_mode=False)\n",
       "  (conv3): Sequential(\n",
       "    (0): Conv2d(16, 32, kernel_size=(3, 3), stride=(1, 1), padding=(1, 1))\n",
       "    (1): ReLU()\n",
       "  )\n",
       "  (linear): Sequential(\n",
       "    (0): Flatten(start_dim=1, end_dim=-1)\n",
       "    (1): Linear(in_features=3136, out_features=1600, bias=True)\n",
       "    (2): Dropout(p=0.5, inplace=False)\n",
       "    (3): ReLU()\n",
       "    (4): Linear(in_features=1600, out_features=10, bias=True)\n",
       "    (5): Sigmoid()\n",
       "  )\n",
       ")"
      ]
     },
     "execution_count": 21,
     "metadata": {},
     "output_type": "execute_result"
    }
   ],
   "source": [
    "device = 'cuda' if torch.cuda.is_available() else 'cpu'\n",
    "model.to(device)\n"
   ]
  },
  {
   "cell_type": "code",
   "execution_count": 22,
   "metadata": {},
   "outputs": [],
   "source": [
    "optimizer = torch.optim.Adam(model.parameters(), lr=0.01)\n",
    "criterion = torch.nn.BCELoss()"
   ]
  },
  {
   "cell_type": "code",
   "execution_count": 23,
   "metadata": {},
   "outputs": [
    {
     "data": {
      "application/json": {
       "ascii": false,
       "bar_format": null,
       "colour": null,
       "elapsed": 0.0076751708984375,
       "initial": 0,
       "n": 0,
       "ncols": null,
       "nrows": null,
       "postfix": null,
       "prefix": "",
       "rate": null,
       "total": 10,
       "unit": "it",
       "unit_divisor": 1000,
       "unit_scale": false
      },
      "application/vnd.jupyter.widget-view+json": {
       "model_id": "0c046ad3be534408adc5ef910671839f",
       "version_major": 2,
       "version_minor": 0
      },
      "text/plain": [
       "  0%|          | 0/10 [00:00<?, ?it/s]"
      ]
     },
     "metadata": {},
     "output_type": "display_data"
    },
    {
     "name": "stdout",
     "output_type": "stream",
     "text": [
      "Epoch 0 train_loss: 0.1976, valid: 0.0569\n",
      "Epoch 1 train_loss: 0.0788, valid: 0.0415\n",
      "Epoch 2 train_loss: 0.0660, valid: 0.0358\n",
      "Epoch 3 train_loss: 0.0617, valid: 0.0343\n",
      "Epoch 4 train_loss: 0.0591, valid: 0.0334\n",
      "Epoch 5 train_loss: 0.0567, valid: 0.0362\n",
      "Epoch 6 train_loss: 0.0566, valid: 0.0345\n",
      "Epoch 7 train_loss: 0.0555, valid: 0.0330\n",
      "Epoch 8 train_loss: 0.0538, valid: 0.0360\n",
      "Epoch 9 train_loss: 0.0527, valid: 0.0384\n"
     ]
    }
   ],
   "source": [
    "epoch_losses_train = []\n",
    "epoch_losses_valid = []\n",
    "\n",
    "for epoch in tqdm(np.arange(10)):\n",
    "    batch_losses = []\n",
    "    model.train()\n",
    "    for numbers, labels in train_loader:\n",
    "        pred = model(numbers.to(device))\n",
    "        optimizer.zero_grad()\n",
    "        loss = criterion(pred, labels)\n",
    "        loss.backward()\n",
    "        optimizer.step()\n",
    "        batch_losses.append(loss.item())\n",
    "\n",
    "    epoch_losses_train.append(np.mean(batch_losses))\n",
    "\n",
    "    batch_losses = []\n",
    "    model.eval()\n",
    "    for numbers, labels in valid_loader:\n",
    "        pred = model(numbers.to(device))\n",
    "        loss = criterion(pred, labels)\n",
    "        batch_losses.append(loss.item())\n",
    "    epoch_losses_valid.append(np.mean(batch_losses))\n",
    "\n",
    "    print(\n",
    "        f'Epoch {epoch} train_loss: {epoch_losses_train[-1]:.4f}, valid: {epoch_losses_valid[-1]:.4f}')\n"
   ]
  },
  {
   "cell_type": "code",
   "execution_count": 24,
   "metadata": {},
   "outputs": [],
   "source": [
    "def plot_loss_metrics(tl: list, vl: list):\n",
    "\n",
    "    plt.plot(tl, label='Train loss')\n",
    "    plt.plot(vl, label='Valid Loss')\n",
    "    plt.legend()"
   ]
  },
  {
   "cell_type": "code",
   "execution_count": 25,
   "metadata": {},
   "outputs": [
    {
     "data": {
      "image/png": "[encoded data removed]",
      "text/plain": [
       "<Figure size 640x480 with 1 Axes>"
      ]
     },
     "metadata": {},
     "output_type": "display_data"
    }
   ],
   "source": [
    "plot_loss_metrics(epoch_losses_train, epoch_losses_valid)"
   ]
  },
  {
   "cell_type": "code",
   "execution_count": 26,
   "metadata": {},
   "outputs": [
    {
     "data": {
      "text/plain": [
       "<matplotlib.image.AxesImage at 0x2a4b4db10>"
      ]
     },
     "execution_count": 26,
     "metadata": {},
     "output_type": "execute_result"
    },
    {
     "data": {
      "image/png": "[encoded data removed]",
      "text/plain": [
       "<Figure size 640x480 with 1 Axes>"
      ]
     },
     "metadata": {},
     "output_type": "display_data"
    }
   ],
   "source": [
    "im = np.concatenate((data[85, :, :], data[9429, :, :]), axis=1)\n",
    "plt.imshow(im, cmap='gray')\n"
   ]
  },
  {
   "cell_type": "code",
   "execution_count": 28,
   "metadata": {},
   "outputs": [],
   "source": [
    "dummy_input = torch.randn(1, 1, 28, 56).to(device)\n",
    "torch.onnx.export(model, dummy_input, 'model/numbers.onnx',\n",
    "                  input_names=['data'], output_names=['output'],\n",
    "                  export_params=True)\n"
   ]
  },
  {
   "cell_type": "code",
   "execution_count": 29,
   "metadata": {},
   "outputs": [],
   "source": [
    "im = torch.tensor(im)/255\n",
    "save_image(im, 'images/test.jpg')"
   ]
  },
  {
   "cell_type": "code",
   "execution_count": 30,
   "metadata": {},
   "outputs": [],
   "source": [
    "import onnxruntime\n",
    "from onnxruntime import InferenceSession\n",
    "import json\n",
    "\n",
    "onnx_model = 'model/numbers.onnx'\n",
    "\n",
    "img = read_image('images/test.jpg')\n",
    "transform = T.transforms.Grayscale()\n",
    "img = transform(img)\n",
    "img = img.clone().detach()\n",
    "img = torch.unsqueeze(img, 0)/255\n",
    "# img[...,:3]\n",
    "# img = np.dot(img[...,:3], [0, 0.587, 0.114])\n",
    "# img\n",
    "# img.resize((1, 1, 28, 56))\n",
    "img.shape\n",
    "data = json.dumps({'data': img.tolist()})\n",
    "data = np.array(json.loads(data)['data']).astype('float32')\n"
   ]
  },
  {
   "cell_type": "code",
   "execution_count": 31,
   "metadata": {},
   "outputs": [],
   "source": [
    "session = onnxruntime.InferenceSession(onnx_model, None)\n",
    "input_name = session.get_inputs()[0].name\n",
    "output_name = session.get_outputs()[0].name\n",
    "# print(input_name)\n",
    "# print(output_name)\n"
   ]
  },
  {
   "cell_type": "code",
   "execution_count": 32,
   "metadata": {},
   "outputs": [
    {
     "name": "stdout",
     "output_type": "stream",
     "text": [
      "[array([[ 3.2782555e-07,  3.6045909e-04,  3.2573938e-03,  9.9999982e-01,\n",
      "         9.9999905e-01,  1.1920929e-07, -5.9604645e-08,  3.3025742e-03,\n",
      "         5.8889389e-05,  6.3896179e-04]], dtype=float32)]\n",
      "34\n"
     ]
    }
   ],
   "source": [
    "result = session.run([output_name], {input_name: data})\n",
    "print(result)\n",
    "\n",
    "max_indices = np.argsort(np.array(result).squeeze())[-2:][::-1]\n",
    "prediction = \"\".join(map(lambda x: str(x), max_indices.tolist()))\n",
    "print(prediction)\n"
   ]
  }
 ],
 "metadata": {
  "kernelspec": {
   "display_name": "base",
   "language": "python",
   "name": "python3"
  },
  "language_info": {
   "codemirror_mode": {
    "name": "ipython",
    "version": 3
   },
   "file_extension": ".py",
   "mimetype": "text/x-python",
   "name": "python",
   "nbconvert_exporter": "python",
   "pygments_lexer": "ipython3",
   "version": "3.10.6"
  },
  "orig_nbformat": 4
 },
 "nbformat": 4,
 "nbformat_minor": 2
}
